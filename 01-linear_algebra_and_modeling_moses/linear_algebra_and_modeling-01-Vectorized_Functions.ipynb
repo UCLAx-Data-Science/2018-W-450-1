{
 "cells": [
  {
   "cell_type": "markdown",
   "metadata": {},
   "source": [
    "#### A Note on Markdown and Latex in Jupyter\n",
    "\n",
    "Jupyter markdown cells can take markdown, html, or $\\LaTeX$ to render text. $\\LaTeX$ or latex (pronouced \"lay-teck\") is a programming language for designed for rendering technical writing, especially math.\n",
    "\n",
    "For example, if we write\n",
    "\n",
    "`$$\\frac{1}{2}$$`\n",
    "\n",
    "it will appear as\n",
    "\n",
    "$$\\frac{1}{2}$$"
   ]
  },
  {
   "cell_type": "markdown",
   "metadata": {},
   "source": [
    "# Back to Algebra I\n",
    "\n",
    "The slope-intercept equation:\n",
    "\n",
    "$$y = mx+b$$\n",
    "\n",
    "\n",
    "Here, we are defining a relationship between two variables, $x$ and $y$. \n",
    "\n",
    "You should think of this as a **mapping** $x \\mapsto y$ or the **function** $f(x)=y$.\n",
    "\n",
    "We can use R to model a linear function of two variables."
   ]
  },
  {
   "cell_type": "markdown",
   "metadata": {},
   "source": [
    "The word \"model\" here is important. A mathematical function in a computer is by necessity a model. We typically think of mathematical functions as continuous. In between two points on a function curve, we can always find a third point. \n",
    "\n",
    "Computationally i.e. in a computer, we can not do this. We *must* work with a finite set of values. "
   ]
  },
  {
   "cell_type": "markdown",
   "metadata": {},
   "source": [
    "#### A Note on Nomenclature\n",
    "\n",
    "I will use `xx` for the name for a vectors of $x$ values and `yy` for a vector of $y$ values."
   ]
  },
  {
   "cell_type": "code",
   "execution_count": null,
   "metadata": {},
   "outputs": [],
   "source": [
    "xx <- 1:10"
   ]
  },
  {
   "cell_type": "markdown",
   "metadata": {},
   "source": [
    "`xx` is a vector of values from 1 to 10 incremented by 1."
   ]
  },
  {
   "cell_type": "code",
   "execution_count": null,
   "metadata": {},
   "outputs": [],
   "source": [
    "xx"
   ]
  },
  {
   "cell_type": "markdown",
   "metadata": {},
   "source": [
    "If we consider the slope-intercept equation:\n",
    "\n",
    "$$y = 0.1x+1$$"
   ]
  },
  {
   "cell_type": "markdown",
   "metadata": {},
   "source": [
    "We can generate a `yy` vector of values by performing simple vector arithmetic."
   ]
  },
  {
   "cell_type": "code",
   "execution_count": null,
   "metadata": {},
   "outputs": [],
   "source": [
    "yy <- 0.1*xx + 1"
   ]
  },
  {
   "cell_type": "markdown",
   "metadata": {},
   "source": [
    "And can display the results"
   ]
  },
  {
   "cell_type": "code",
   "execution_count": null,
   "metadata": {},
   "outputs": [],
   "source": [
    "yy"
   ]
  },
  {
   "cell_type": "markdown",
   "metadata": {},
   "source": [
    "Here, each value in `xx` gets multiplied by 0.1 and incremented by 1."
   ]
  },
  {
   "cell_type": "code",
   "execution_count": null,
   "metadata": {},
   "outputs": [],
   "source": [
    "library(repr)"
   ]
  },
  {
   "cell_type": "code",
   "execution_count": null,
   "metadata": {
    "scrolled": false
   },
   "outputs": [],
   "source": [
    "options(repr.plot.width=12, repr.plot.height=6)\n",
    "plot(xx, yy, ylim=c(-1,5), xlim=c(-2,10))\n",
    "abline(h=0); abline(v=0)"
   ]
  }
 ],
 "metadata": {
  "kernelspec": {
   "display_name": "R",
   "language": "R",
   "name": "ir"
  },
  "language_info": {
   "codemirror_mode": "r",
   "file_extension": ".r",
   "mimetype": "text/x-r-source",
   "name": "R",
   "pygments_lexer": "r",
   "version": "3.3.2"
  }
 },
 "nbformat": 4,
 "nbformat_minor": 2
}
