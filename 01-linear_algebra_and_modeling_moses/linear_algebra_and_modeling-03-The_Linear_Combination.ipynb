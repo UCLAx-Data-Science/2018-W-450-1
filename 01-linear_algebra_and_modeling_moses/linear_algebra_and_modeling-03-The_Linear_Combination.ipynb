{
 "cells": [
  {
   "cell_type": "markdown",
   "metadata": {},
   "source": [
    "# The Linear Combination\n",
    "\n",
    "The basis of linear algebra is the vector and the linear combination.\n",
    "\n",
    "## The Vector\n",
    "\n",
    "A vector is a multi-dimensional element.\n",
    "\n",
    "e.g. $(1)$, $(1,3,5,8)$, $(1,2,\\dots,50)$\n",
    "\n",
    "As opposed to a scalar\n",
    "\n",
    "e.g. $1, \\sqrt{2}, e, \\pi, 101010, 47$\n",
    "\n",
    "## Scalar Arithmetic\n",
    "\n",
    "- add\n",
    "- subtract\n",
    "- multiply\n",
    "- divide"
   ]
  },
  {
   "cell_type": "markdown",
   "metadata": {},
   "source": [
    "## Vector Arithmetic\n",
    "\n",
    "Vector Arithmetic has two defined operations, vector addition and scalar multiplication. That is, provided that we have vectors of equal length, we can add two vectors together, and we can multiply a vector by a scalar value.\n",
    "\n",
    "### Vector Addition\n",
    "\n",
    "Here, we add two vectors. This is done by adding corresponding elements of the vector. Note the result is a vector of the same shape, signifying that it is a member of the same vector space.\n",
    "\n",
    "$$(-1,2) + (3,5) = (2,7)$$\n",
    "\n",
    "Note that all three of these vectors are elements of the two-dimensional real-valued vector space, $\\mathbb{R}^2$. We use the symbol $\\in$ to mean \"an element of\" so that we can write\n",
    "\n",
    "$$(-1,2), (3,5), (2,7) \\in \\mathbb{R}^2$$\n",
    "\n",
    "which means that these three vectors are elements of $\\mathbb{R}^2$."
   ]
  },
  {
   "cell_type": "code",
   "execution_count": null,
   "metadata": {},
   "outputs": [],
   "source": [
    "a <- c(-1,2)\n",
    "b <- c(3,5)"
   ]
  },
  {
   "cell_type": "code",
   "execution_count": null,
   "metadata": {},
   "outputs": [],
   "source": [
    "c <- a + b"
   ]
  },
  {
   "cell_type": "code",
   "execution_count": null,
   "metadata": {},
   "outputs": [],
   "source": [
    "c"
   ]
  },
  {
   "cell_type": "code",
   "execution_count": null,
   "metadata": {},
   "outputs": [],
   "source": [
    "a + b == b + a"
   ]
  },
  {
   "cell_type": "code",
   "execution_count": null,
   "metadata": {},
   "outputs": [],
   "source": [
    "vecplot <- function (v, origin=NULL, col=\"black\", lwd=1) {\n",
    "    if (is.null(origin)) {\n",
    "        origin = c(0,0)\n",
    "    }\n",
    "    arrows(origin[1],origin[2],v[1]+origin[1],v[2]+origin[2], col=col, lwd=lwd)\n",
    "}"
   ]
  },
  {
   "cell_type": "code",
   "execution_count": null,
   "metadata": {},
   "outputs": [],
   "source": [
    "library(repr)"
   ]
  },
  {
   "cell_type": "code",
   "execution_count": null,
   "metadata": {},
   "outputs": [],
   "source": [
    "options(repr.plot.width=12, repr.plot.height=6)\n",
    "plot(NA, xlim=c(-2,2), ylim=c(-2,10), xlab=\"X\", ylab=\"Y\")\n",
    "abline(h=0); abline(v=0)\n",
    "vecplot(c, col=\"red\")\n",
    "vecplot(a, col=\"blue\")\n",
    "vecplot(b,a, col=\"green\")"
   ]
  },
  {
   "cell_type": "markdown",
   "metadata": {},
   "source": [
    "#### Vector Addition in General\n",
    "\n",
    "Generally, where vector $\\mathbf{u}, \\mathbf{v}, \\mathbf{w} \\in \\mathbb{R}^p$, where $\\mathbb{R}^p$ is a $p$-dimensional real-valued vector space\n",
    "\n",
    "$$\\mathbf{u}+\\mathbf{v} = (u_1,\\dots,u_p) + (v_1,\\dots,v_p) = (u_1+v_1,\\dots,u_p+v_p) = (w_1,\\dots,w_p) = \\mathbf{w}$$"
   ]
  },
  {
   "cell_type": "markdown",
   "metadata": {},
   "source": [
    "### Scalar Multiplication\n",
    "\n",
    "Here, we add multiply a vector by a scalar value. This is done by multiplying each element of the vector by the scalar. Note the result is a vector of the same shape, signifying that it is a member of the same vector space.\n",
    "\n",
    "$$3\\cdot(-1.5,1.3)=(-4.5,3.9)$$\n",
    "\n",
    "$$(-1.5,1.3), (-4.5,3.9) \\in \\mathbb{R}^2$$"
   ]
  },
  {
   "cell_type": "code",
   "execution_count": null,
   "metadata": {},
   "outputs": [],
   "source": [
    "d <- c(-1.5,1.3)\n",
    "e <- 3*d\n",
    "e"
   ]
  },
  {
   "cell_type": "code",
   "execution_count": null,
   "metadata": {},
   "outputs": [],
   "source": [
    "arrows(l)"
   ]
  },
  {
   "cell_type": "code",
   "execution_count": null,
   "metadata": {},
   "outputs": [],
   "source": [
    "options(repr.plot.width=12, repr.plot.height=6)\n",
    "plot(NA, xlim=c(-5,5), ylim=c(-2,10), xlab=\"X\", ylab=\"Y\")\n",
    "abline(h=0); abline(v=0)\n",
    "vecplot(e, col=\"green\", lwd=10)\n",
    "vecplot(d, col=\"red\")\n",
    "vecplot(d, d, col=\"red\")\n",
    "vecplot(d, d+d, col=\"red\")"
   ]
  },
  {
   "cell_type": "markdown",
   "metadata": {},
   "source": [
    "#### Scalar Multiplication in General\n",
    "\n",
    "Generally, with vectors $\\mathbf{u}, \\mathbf{v} \\in \\mathbb{R}^p$, where $\\mathbb{R}^p$ is a $p$-dimensional real-valued vector space and scalar $\\beta \\in \\mathbb{R}$\n",
    "\n",
    "$$\\beta\\mathbf{u}=\\beta(u_1,\\dots,u_p)=(\\beta u_1, \\dots, \\beta u_p) = (v_1,\\dots,v_p) = \\mathbf{v}$$"
   ]
  },
  {
   "cell_type": "markdown",
   "metadata": {},
   "source": [
    "## The Linear Combination\n",
    "\n",
    "A linear combination is the vector result of a vector addition and scalar multiplication of vectors."
   ]
  },
  {
   "cell_type": "code",
   "execution_count": null,
   "metadata": {},
   "outputs": [],
   "source": [
    "f <- c(-1,1)\n",
    "g <- c(2,-1)\n",
    "h <- 2*f + 3*g\n",
    "h"
   ]
  },
  {
   "cell_type": "code",
   "execution_count": null,
   "metadata": {},
   "outputs": [],
   "source": [
    "options(repr.plot.width=12, repr.plot.height=6)\n",
    "plot(NA, xlim=c(-2,5), ylim=c(-2,5), xlab=\"X\", ylab=\"Y\")\n",
    "abline(h=0); abline(v=0)\n",
    "vecplot(h, col=\"blue\")\n",
    "vecplot(2*f, col=\"red\")\n",
    "vecplot(3*g, 2*f, col=\"green\")"
   ]
  },
  {
   "cell_type": "markdown",
   "metadata": {},
   "source": [
    "#### Linear Combination in General\n",
    "\n",
    "Generally, with vectors $\\mathbf{u}, \\mathbf{v}, \\mathbf{w} \\in \\mathbb{R}^p$, where $\\mathbb{R}^p$ is a $p$-dimensional real-valued vector space and scalars $\\beta, \\gamma \\in \\mathbb{R}$\n",
    "\n",
    "$$\\beta\\mathbf{u}+\\gamma\\mathbf{v}=\\beta(u_1,\\dots,u_p)+\\gamma(v_1,\\dots,v_p)=(\\beta u_1+\\gamma v_1, \\dots, \\beta u_p + \\gamma v_p) = (w_1,\\dots,w_p) = \\mathbf{w}$$"
   ]
  },
  {
   "cell_type": "code",
   "execution_count": null,
   "metadata": {},
   "outputs": [],
   "source": []
  }
 ],
 "metadata": {
  "kernelspec": {
   "display_name": "R",
   "language": "R",
   "name": "ir"
  },
  "language_info": {
   "codemirror_mode": "r",
   "file_extension": ".r",
   "mimetype": "text/x-r-source",
   "name": "R",
   "pygments_lexer": "r",
   "version": "3.3.2"
  }
 },
 "nbformat": 4,
 "nbformat_minor": 2
}
