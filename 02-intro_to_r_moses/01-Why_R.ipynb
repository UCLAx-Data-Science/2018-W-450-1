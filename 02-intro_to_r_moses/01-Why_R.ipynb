{
 "cells": [
  {
   "cell_type": "markdown",
   "metadata": {},
   "source": [
    "<img src=\"https://www.evernote.com/l/AAHLiAhLTORAlZK7rf9Ftv2bmteyzHytlpYB/image.png\" width=500px>"
   ]
  },
  {
   "cell_type": "markdown",
   "metadata": {},
   "source": [
    "## Why R?\n",
    "\n",
    "In my opinion, the question is not \"why R\"? The question is \"R or Python\"?"
   ]
  },
  {
   "cell_type": "markdown",
   "metadata": {},
   "source": [
    "<img src=\"https://www.evernote.com/l/AAFPBsTjl1ZFPKFG-aDoElJwNA7L0WHkHRUB/image.png\" width=\"500px\">"
   ]
  },
  {
   "cell_type": "markdown",
   "metadata": {},
   "source": [
    "Lucky for us, as we are using the Jupyter Notebook DataScience Notebook, we can have it all. \n",
    "\n",
    "<img src=\"https://www.evernote.com/l/AAGiXVpHNYJJT7OSJXhFMGFuHwbOudmu-84B/image.png\" width=400px>"
   ]
  },
  {
   "cell_type": "markdown",
   "metadata": {},
   "source": [
    "# Why Julia? Why Python? Why R? \n",
    "\n",
    "### Ju - Pyt - R"
   ]
  },
  {
   "cell_type": "markdown",
   "metadata": {},
   "source": [
    "For each of these, the answer is simple.\n",
    "\n",
    "### They are open-source. "
   ]
  },
  {
   "cell_type": "markdown",
   "metadata": {},
   "source": [
    "## In this class, we will use R"
   ]
  },
  {
   "cell_type": "markdown",
   "metadata": {},
   "source": [
    "<img src=\"https://www.r-project.org/Rlogo.png\" style=\"display: inline\">\n",
    "<img src=\"https://www.evernote.com/l/AAFB2h_eUZdBBISFXF6tGMaWXXSO3DyqF7oB/image.png\" width=500px style=\"display: inline\">\n"
   ]
  }
 ],
 "metadata": {
  "kernelspec": {
   "display_name": "R",
   "language": "R",
   "name": "ir"
  },
  "language_info": {
   "codemirror_mode": "r",
   "file_extension": ".r",
   "mimetype": "text/x-r-source",
   "name": "R",
   "pygments_lexer": "r",
   "version": "3.3.2"
  }
 },
 "nbformat": 4,
 "nbformat_minor": 2
}
