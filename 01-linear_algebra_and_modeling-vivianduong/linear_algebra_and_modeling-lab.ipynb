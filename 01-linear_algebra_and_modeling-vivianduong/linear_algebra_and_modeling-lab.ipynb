{
 "cells": [
  {
   "cell_type": "markdown",
   "metadata": {},
   "source": [
    "### 1. Use Vectors to Plot these functions\n",
    "\n",
    "- $y=-4x-5$\n",
    "- $y=2x+16$\n",
    "- $y=x^2-3x+2$\n",
    "- $4x-5y=10$"
   ]
  },
  {
   "cell_type": "code",
   "execution_count": 172,
   "metadata": {},
   "outputs": [
    {
     "data": {
      "text/html": [
       "<ol class=list-inline>\n",
       "\t<li>395</li>\n",
       "\t<li>-405</li>\n",
       "</ol>\n"
      ],
      "text/latex": [
       "\\begin{enumerate*}\n",
       "\\item 395\n",
       "\\item -405\n",
       "\\end{enumerate*}\n"
      ],
      "text/markdown": [
       "1. 395\n",
       "2. -405\n",
       "\n",
       "\n"
      ],
      "text/plain": [
       "[1]  395 -405"
      ]
     },
     "metadata": {},
     "output_type": "display_data"
    },
    {
     "data": {
      "text/html": [
       "<ol class=list-inline>\n",
       "\t<li>-184</li>\n",
       "\t<li>216</li>\n",
       "</ol>\n"
      ],
      "text/latex": [
       "\\begin{enumerate*}\n",
       "\\item -184\n",
       "\\item 216\n",
       "\\end{enumerate*}\n"
      ],
      "text/markdown": [
       "1. -184\n",
       "2. 216\n",
       "\n",
       "\n"
      ],
      "text/plain": [
       "[1] -184  216"
      ]
     },
     "metadata": {},
     "output_type": "display_data"
    },
    {
     "data": {
      "text/html": [
       "<ol class=list-inline>\n",
       "\t<li>10302</li>\n",
       "\t<li>9702</li>\n",
       "</ol>\n"
      ],
      "text/latex": [
       "\\begin{enumerate*}\n",
       "\\item 10302\n",
       "\\item 9702\n",
       "\\end{enumerate*}\n"
      ],
      "text/markdown": [
       "1. 10302\n",
       "2. 9702\n",
       "\n",
       "\n"
      ],
      "text/plain": [
       "[1] 10302  9702"
      ]
     },
     "metadata": {},
     "output_type": "display_data"
    },
    {
     "data": {
      "text/html": [
       "<ol class=list-inline>\n",
       "\t<li>-82</li>\n",
       "\t<li>78</li>\n",
       "</ol>\n"
      ],
      "text/latex": [
       "\\begin{enumerate*}\n",
       "\\item -82\n",
       "\\item 78\n",
       "\\end{enumerate*}\n"
      ],
      "text/markdown": [
       "1. -82\n",
       "2. 78\n",
       "\n",
       "\n"
      ],
      "text/plain": [
       "[1] -82  78"
      ]
     },
     "metadata": {},
     "output_type": "display_data"
    },
    {
     "data": {
      "image/png": "[encoded data removed]",
      "text/plain": [
       "plot without title"
      ]
     },
     "metadata": {},
     "output_type": "display_data"
    }
   ],
   "source": [
    "vecplot <- function (v, origin=NULL, col=\"black\", lwd=1) {\n",
    "    if (is.null(origin)) {\n",
    "        origin = c(0,0)\n",
    "    }\n",
    "    arrows(origin[1], origin[2], v[1]+origin[1], v[2]+origin[2], col=col, lwd=lwd)\n",
    "}\n",
    "\n",
    "xx <- c(-100, 100)\n",
    "yy1 <- -4*xx -5; yy1\n",
    "yy2 <- 2*xx + 16; yy2\n",
    "yy3 <- xx^2 - 3*xx + 2; yy3\n",
    "yy4 <- (10 - 4*xx)/-5; yy4\n",
    "\n",
    "library(repr)\n",
    "options(repr.plot.width=12, repr.plot.height=6)\n",
    "plot(NA, xlim=c(-100, 100), ylim=c(-405,10310), xlab=\"X\", ylab=\"Y\")\n",
    "arrows(-100, yy1[1], 100, yy1[2])\n",
    "arrows(-100, yy2[1], 100, yy2[2])\n",
    "arrows(-100, yy3[1], 100, yy3[2])\n",
    "arrows(-100, yy4[1], 100, yy4[2])"
   ]
  },
  {
   "cell_type": "markdown",
   "metadata": {},
   "source": [
    "### 2. Systems of Equations\n",
    "\n",
    "Plot the solution to these systems of equations:\n",
    "\n",
    "1. $y=-4x-5$  \n",
    "   $y=2x+16$\n",
    "1. $y=2x+16$  \n",
    "   $4x-5y=10$\n",
    "1. $y=-4x-5$  \n",
    "   $4x-5y=10$"
   ]
  },
  {
   "cell_type": "code",
   "execution_count": 11,
   "metadata": {},
   "outputs": [
    {
     "name": "stdout",
     "output_type": "stream",
     "text": [
      "[1] \"x1 = \"\n"
     ]
    },
    {
     "data": {
      "text/html": [
       "-3.5"
      ],
      "text/latex": [
       "-3.5"
      ],
      "text/markdown": [
       "-3.5"
      ],
      "text/plain": [
       "[1] -3.5"
      ]
     },
     "metadata": {},
     "output_type": "display_data"
    },
    {
     "name": "stdout",
     "output_type": "stream",
     "text": [
      "[1] \"y1 = \"\n"
     ]
    },
    {
     "data": {
      "text/html": [
       "9"
      ],
      "text/latex": [
       "9"
      ],
      "text/markdown": [
       "9"
      ],
      "text/plain": [
       "[1] 9"
      ]
     },
     "metadata": {},
     "output_type": "display_data"
    },
    {
     "name": "stdout",
     "output_type": "stream",
     "text": [
      "[1] \"x2 = \"\n"
     ]
    },
    {
     "data": {
      "text/html": [
       "-15"
      ],
      "text/latex": [
       "-15"
      ],
      "text/markdown": [
       "-15"
      ],
      "text/plain": [
       "[1] -15"
      ]
     },
     "metadata": {},
     "output_type": "display_data"
    },
    {
     "name": "stdout",
     "output_type": "stream",
     "text": [
      "[1] \"y2 = \"\n"
     ]
    },
    {
     "data": {
      "text/html": [
       "-14"
      ],
      "text/latex": [
       "-14"
      ],
      "text/markdown": [
       "-14"
      ],
      "text/plain": [
       "[1] -14"
      ]
     },
     "metadata": {},
     "output_type": "display_data"
    },
    {
     "name": "stdout",
     "output_type": "stream",
     "text": [
      "[1] \"x3 = \"\n"
     ]
    },
    {
     "data": {
      "text/html": [
       "-0.625"
      ],
      "text/latex": [
       "-0.625"
      ],
      "text/markdown": [
       "-0.625"
      ],
      "text/plain": [
       "[1] -0.625"
      ]
     },
     "metadata": {},
     "output_type": "display_data"
    },
    {
     "name": "stdout",
     "output_type": "stream",
     "text": [
      "[1] \"y3 = \"\n"
     ]
    },
    {
     "data": {
      "text/html": [
       "-2.5"
      ],
      "text/latex": [
       "-2.5"
      ],
      "text/markdown": [
       "-2.5"
      ],
      "text/plain": [
       "[1] -2.5"
      ]
     },
     "metadata": {},
     "output_type": "display_data"
    }
   ],
   "source": [
    "A1 <- matrix(c(1, 1, 4, -2), nrow=2); b1 <- c(-5, 16); \n",
    "yx = solve(A1, b1); \n",
    "print(\"x1 = \"); yx[2]\n",
    "print(\"y1 = \"); yx[1]\n",
    "\n",
    "A <- matrix(c(1, -5, -2, 4), nrow=2); b <- c(16, 10); \n",
    "yx = solve(A, b); \n",
    "print(\"x2 = \"); yx[2]\n",
    "print(\"y2 = \"); yx[1]\n",
    "\n",
    "A <- matrix(c(1, -5, 4, 4), nrow=2); b <- c(-5, 10); \n",
    "yx = solve(A, b); \n",
    "print(\"x3 = \"); yx[2]\n",
    "print(\"y3 = \"); yx[1]"
   ]
  },
  {
   "cell_type": "markdown",
   "metadata": {},
   "source": [
    "### 3. Define these vectors\n",
    "\n",
    "- $a = (1,2)$\n",
    "- $b = (3,0.5)$\n",
    "- $c = (\\pi,e)$\n",
    "- $d=(-11,1)$\n",
    "- $e=\\left(\\frac{1}{4},\\frac{7}{9}\\right)$\n",
    "- $f=(-4,4)$"
   ]
  },
  {
   "cell_type": "code",
   "execution_count": 20,
   "metadata": {},
   "outputs": [],
   "source": [
    "a <- c(1,2)\n",
    "b <- c(3, 0.5)\n",
    "c <- c(pi, exp(1))\n",
    "d <- c(-11,1)\n",
    "e <- c(1/4, 7/9)\n",
    "f <- c(-4,4)\n",
    "\n"
   ]
  },
  {
   "cell_type": "markdown",
   "metadata": {},
   "source": [
    "### 4. Calculate and draw a vector addition\n",
    "\n",
    "Find the result of the vector addition:\n",
    "\n",
    "$$\\mathbf{g}=\\mathbf{a}+\\mathbf{b}+\\mathbf{a}$$"
   ]
  },
  {
   "cell_type": "code",
   "execution_count": 42,
   "metadata": {},
   "outputs": [
    {
     "name": "stdout",
     "output_type": "stream",
     "text": [
      "[1] \"g = a + b + a =\"\n"
     ]
    },
    {
     "data": {
      "text/html": [
       "<ol class=list-inline>\n",
       "\t<li>5</li>\n",
       "\t<li>4.5</li>\n",
       "</ol>\n"
      ],
      "text/latex": [
       "\\begin{enumerate*}\n",
       "\\item 5\n",
       "\\item 4.5\n",
       "\\end{enumerate*}\n"
      ],
      "text/markdown": [
       "1. 5\n",
       "2. 4.5\n",
       "\n",
       "\n"
      ],
      "text/plain": [
       "[1] 5.0 4.5"
      ]
     },
     "metadata": {},
     "output_type": "display_data"
    },
    {
     "data": {
      "image/png": "[encoded data removed]",
      "text/plain": [
       "plot without title"
      ]
     },
     "metadata": {},
     "output_type": "display_data"
    }
   ],
   "source": [
    "\n",
    "\n",
    "g <- a + b + a; \n",
    "print(\"g = a + b + a =\"); g\n",
    "\n",
    "library(repr)\n",
    "options(repr.plot.width=12, repr.plot.height=6)\n",
    "plot(NA, xlim=c(0, 6), ylim=c(0,6), xlab=\"X\", ylab=\"Y\")\n",
    "vecplot(a, col=\"blue\")\n",
    "vecplot(b, a, col=\"red\")\n",
    "vecplot(a, a+b, col=\"orange\")\n",
    "vecplot(g, col=\"black\", lwd=10)"
   ]
  },
  {
   "cell_type": "markdown",
   "metadata": {},
   "source": [
    "### 5. Find and plot the results of\n",
    "\n",
    "$$\\mathbf{h}=3\\mathbf{b}$$"
   ]
  },
  {
   "cell_type": "code",
   "execution_count": 41,
   "metadata": {},
   "outputs": [
    {
     "name": "stdout",
     "output_type": "stream",
     "text": [
      "[1] \"h = 3b = \"\n"
     ]
    },
    {
     "data": {
      "text/html": [
       "<ol class=list-inline>\n",
       "\t<li>9</li>\n",
       "\t<li>1.5</li>\n",
       "</ol>\n"
      ],
      "text/latex": [
       "\\begin{enumerate*}\n",
       "\\item 9\n",
       "\\item 1.5\n",
       "\\end{enumerate*}\n"
      ],
      "text/markdown": [
       "1. 9\n",
       "2. 1.5\n",
       "\n",
       "\n"
      ],
      "text/plain": [
       "[1] 9.0 1.5"
      ]
     },
     "metadata": {},
     "output_type": "display_data"
    },
    {
     "data": {
      "image/png": "[encoded data removed]",
      "text/plain": [
       "plot without title"
      ]
     },
     "metadata": {},
     "output_type": "display_data"
    }
   ],
   "source": [
    "h = 3*b; print(\"h = 3b = \"); h\n",
    "\n",
    "library(repr)\n",
    "options(repr.plot.width=12, repr.plot.height=4)\n",
    "plot(NA, xlim=c(0, 9), ylim=c(0,3), xlab=\"X\", ylab=\"Y\")\n",
    "vecplot(h, col=\"grey\", lwd=10)\n",
    "vecplot(b, col=\"blue\")\n",
    "vecplot(b, b, col=\"blue\")\n",
    "vecplot(b, b+b, col=\"blue\")\n"
   ]
  },
  {
   "cell_type": "markdown",
   "metadata": {},
   "source": [
    "### 6. Find the results of and plot this linear combination\n",
    "\n",
    "$$\\mathbf{k}=2\\mathbf{a}+3\\mathbf{b}$$"
   ]
  },
  {
   "cell_type": "code",
   "execution_count": 44,
   "metadata": {},
   "outputs": [
    {
     "name": "stdout",
     "output_type": "stream",
     "text": [
      "[1] \"k = 2a + 3b =\"\n"
     ]
    },
    {
     "data": {
      "text/html": [
       "<ol class=list-inline>\n",
       "\t<li>11</li>\n",
       "\t<li>5.5</li>\n",
       "</ol>\n"
      ],
      "text/latex": [
       "\\begin{enumerate*}\n",
       "\\item 11\n",
       "\\item 5.5\n",
       "\\end{enumerate*}\n"
      ],
      "text/markdown": [
       "1. 11\n",
       "2. 5.5\n",
       "\n",
       "\n"
      ],
      "text/plain": [
       "[1] 11.0  5.5"
      ]
     },
     "metadata": {},
     "output_type": "display_data"
    },
    {
     "data": {
      "image/png": "[encoded data removed]",
      "text/plain": [
       "plot without title"
      ]
     },
     "metadata": {},
     "output_type": "display_data"
    }
   ],
   "source": [
    "k = 2*a + 3*b; print(\"k = 2a + 3b =\"); k\n",
    "\n",
    "library(repr)\n",
    "options(repr.plot.width=12, repr.plot.height=6)\n",
    "plot(NA, xlim=c(0, 12), ylim=c(0,6), xlab=\"X\", ylab=\"Y\")\n",
    "vecplot(a, col=\"blue\")\n",
    "vecplot(a, a, col=\"blue\")\n",
    "vecplot(b, 2*a, col=\"red\")\n",
    "vecplot(b, 2*a+b, col=\"red\")\n",
    "vecplot(b, 2*a + 2*b, col=\"red\")\n",
    "vecplot(k, col=\"black\", lwd=10)"
   ]
  },
  {
   "cell_type": "markdown",
   "metadata": {},
   "source": [
    "### 7. Calculate the dot products below\n",
    "\n",
    "- $\\mathbf{a}^T\\mathbf{b}$\n",
    "- $\\mathbf{b}^T\\mathbf{d}$\n",
    "- $\\mathbf{c}^T\\mathbf{b}$\n",
    "- $\\mathbf{d}^T\\mathbf{b}$\n",
    "- $\\mathbf{e}^T\\mathbf{a}$\n",
    "- $\\mathbf{f}^T\\mathbf{d}$\n",
    "- $\\mathbf{a}^T\\mathbf{c}$"
   ]
  },
  {
   "cell_type": "code",
   "execution_count": 63,
   "metadata": {},
   "outputs": [
    {
     "name": "stdout",
     "output_type": "stream",
     "text": [
      "[1] \"t(a)%*%b = \"\n"
     ]
    },
    {
     "data": {
      "text/html": [
       "<table>\n",
       "<tbody>\n",
       "\t<tr><td>4</td></tr>\n",
       "</tbody>\n",
       "</table>\n"
      ],
      "text/latex": [
       "\\begin{tabular}{l}\n",
       "\t 4\\\\\n",
       "\\end{tabular}\n"
      ],
      "text/markdown": [
       "\n",
       "| 4 | \n",
       "\n",
       "\n"
      ],
      "text/plain": [
       "     [,1]\n",
       "[1,] 4   "
      ]
     },
     "metadata": {},
     "output_type": "display_data"
    },
    {
     "name": "stdout",
     "output_type": "stream",
     "text": [
      "[1] \"t(b)%*%d = \"\n"
     ]
    },
    {
     "data": {
      "text/html": [
       "<table>\n",
       "<tbody>\n",
       "\t<tr><td>-32.5</td></tr>\n",
       "</tbody>\n",
       "</table>\n"
      ],
      "text/latex": [
       "\\begin{tabular}{l}\n",
       "\t -32.5\\\\\n",
       "\\end{tabular}\n"
      ],
      "text/markdown": [
       "\n",
       "| -32.5 | \n",
       "\n",
       "\n"
      ],
      "text/plain": [
       "     [,1] \n",
       "[1,] -32.5"
      ]
     },
     "metadata": {},
     "output_type": "display_data"
    },
    {
     "name": "stdout",
     "output_type": "stream",
     "text": [
      "[1] \"t(c)%*%b = \"\n"
     ]
    },
    {
     "data": {
      "text/html": [
       "<table>\n",
       "<tbody>\n",
       "\t<tr><td>10.78392</td></tr>\n",
       "</tbody>\n",
       "</table>\n"
      ],
      "text/latex": [
       "\\begin{tabular}{l}\n",
       "\t 10.78392\\\\\n",
       "\\end{tabular}\n"
      ],
      "text/markdown": [
       "\n",
       "| 10.78392 | \n",
       "\n",
       "\n"
      ],
      "text/plain": [
       "     [,1]    \n",
       "[1,] 10.78392"
      ]
     },
     "metadata": {},
     "output_type": "display_data"
    },
    {
     "name": "stdout",
     "output_type": "stream",
     "text": [
      "[1] \"t(d)%*%b = \"\n"
     ]
    },
    {
     "data": {
      "text/html": [
       "<table>\n",
       "<tbody>\n",
       "\t<tr><td>-32.5</td></tr>\n",
       "</tbody>\n",
       "</table>\n"
      ],
      "text/latex": [
       "\\begin{tabular}{l}\n",
       "\t -32.5\\\\\n",
       "\\end{tabular}\n"
      ],
      "text/markdown": [
       "\n",
       "| -32.5 | \n",
       "\n",
       "\n"
      ],
      "text/plain": [
       "     [,1] \n",
       "[1,] -32.5"
      ]
     },
     "metadata": {},
     "output_type": "display_data"
    },
    {
     "name": "stdout",
     "output_type": "stream",
     "text": [
      "[1] \"t(e)%*%a = \"\n"
     ]
    },
    {
     "data": {
      "text/html": [
       "<table>\n",
       "<tbody>\n",
       "\t<tr><td>1.805556</td></tr>\n",
       "</tbody>\n",
       "</table>\n"
      ],
      "text/latex": [
       "\\begin{tabular}{l}\n",
       "\t 1.805556\\\\\n",
       "\\end{tabular}\n"
      ],
      "text/markdown": [
       "\n",
       "| 1.805556 | \n",
       "\n",
       "\n"
      ],
      "text/plain": [
       "     [,1]    \n",
       "[1,] 1.805556"
      ]
     },
     "metadata": {},
     "output_type": "display_data"
    },
    {
     "name": "stdout",
     "output_type": "stream",
     "text": [
      "[1] \"t(f)%*%d = \"\n"
     ]
    },
    {
     "data": {
      "text/html": [
       "<table>\n",
       "<tbody>\n",
       "\t<tr><td>48</td></tr>\n",
       "</tbody>\n",
       "</table>\n"
      ],
      "text/latex": [
       "\\begin{tabular}{l}\n",
       "\t 48\\\\\n",
       "\\end{tabular}\n"
      ],
      "text/markdown": [
       "\n",
       "| 48 | \n",
       "\n",
       "\n"
      ],
      "text/plain": [
       "     [,1]\n",
       "[1,] 48  "
      ]
     },
     "metadata": {},
     "output_type": "display_data"
    },
    {
     "name": "stdout",
     "output_type": "stream",
     "text": [
      "[1] \"t(a)%*%c = \"\n"
     ]
    },
    {
     "data": {
      "text/html": [
       "<table>\n",
       "<tbody>\n",
       "\t<tr><td>8.578156</td></tr>\n",
       "</tbody>\n",
       "</table>\n"
      ],
      "text/latex": [
       "\\begin{tabular}{l}\n",
       "\t 8.578156\\\\\n",
       "\\end{tabular}\n"
      ],
      "text/markdown": [
       "\n",
       "| 8.578156 | \n",
       "\n",
       "\n"
      ],
      "text/plain": [
       "     [,1]    \n",
       "[1,] 8.578156"
      ]
     },
     "metadata": {},
     "output_type": "display_data"
    }
   ],
   "source": [
    "print(\"t(a)%*%b = \"); t(a)%*%b\n",
    "print(\"t(b)%*%d = \"); t(b)%*%d\n",
    "print(\"t(c)%*%b = \"); t(c)%*%b\n",
    "print(\"t(d)%*%b = \"); t(d)%*%b\n",
    "print(\"t(e)%*%a = \"); t(e)%*%a\n",
    "print(\"t(f)%*%d = \"); t(f)%*%d\n",
    "print(\"t(a)%*%c = \"); t(a)%*%c\n"
   ]
  },
  {
   "cell_type": "markdown",
   "metadata": {},
   "source": [
    "### 8. Write a function to find the magnitude of a vector.\n",
    "\n",
    "Do not use `norm`."
   ]
  },
  {
   "cell_type": "code",
   "execution_count": 97,
   "metadata": {},
   "outputs": [
    {
     "ename": "ERROR",
     "evalue": "Error in norm(a): 'A' must be a numeric matrix\n",
     "output_type": "error",
     "traceback": [
      "Error in norm(a): 'A' must be a numeric matrix\nTraceback:\n",
      "1. norm(a)"
     ]
    }
   ],
   "source": [
    "norm2 <- function (v) {\n",
    "    magnitude <- t(v)%*%v\n",
    "    magnitude <- sqrt(magnitude)\n",
    "    return(magnitude)\n",
    "}\n"
   ]
  },
  {
   "cell_type": "markdown",
   "metadata": {},
   "source": [
    "### 9. Find the magnitude of these vectors\n",
    "\n",
    "1. Using your function.\n",
    "2. Using `norm`. \n",
    "3. Demonstrate that the methods are equivalent.\n",
    "\n",
    "\n",
    "- $\\mathbf{a}$\n",
    "- $\\mathbf{b}$\n",
    "- $\\mathbf{c}$\n",
    "- $\\mathbf{d}$\n",
    "- $\\mathbf{e}$\n",
    "- $\\mathbf{f}$"
   ]
  },
  {
   "cell_type": "code",
   "execution_count": 117,
   "metadata": {},
   "outputs": [
    {
     "name": "stdout",
     "output_type": "stream",
     "text": [
      "[1] \"using my function norm2\"\n"
     ]
    },
    {
     "data": {
      "text/html": [
       "<ol>\n",
       "\t<li><table>\n",
       "<tbody>\n",
       "\t<tr><td>2.236068</td></tr>\n",
       "</tbody>\n",
       "</table>\n",
       "</li>\n",
       "\t<li><table>\n",
       "<tbody>\n",
       "\t<tr><td>3.041381</td></tr>\n",
       "</tbody>\n",
       "</table>\n",
       "</li>\n",
       "\t<li><table>\n",
       "<tbody>\n",
       "\t<tr><td>4.154354</td></tr>\n",
       "</tbody>\n",
       "</table>\n",
       "</li>\n",
       "\t<li><table>\n",
       "<tbody>\n",
       "\t<tr><td>11.04536</td></tr>\n",
       "</tbody>\n",
       "</table>\n",
       "</li>\n",
       "\t<li><table>\n",
       "<tbody>\n",
       "\t<tr><td>0.816969</td></tr>\n",
       "</tbody>\n",
       "</table>\n",
       "</li>\n",
       "\t<li><table>\n",
       "<tbody>\n",
       "\t<tr><td>5.656854</td></tr>\n",
       "</tbody>\n",
       "</table>\n",
       "</li>\n",
       "</ol>\n"
      ],
      "text/latex": [
       "\\begin{enumerate}\n",
       "\\item \\begin{tabular}{l}\n",
       "\t 2.236068\\\\\n",
       "\\end{tabular}\n",
       "\n",
       "\\item \\begin{tabular}{l}\n",
       "\t 3.041381\\\\\n",
       "\\end{tabular}\n",
       "\n",
       "\\item \\begin{tabular}{l}\n",
       "\t 4.154354\\\\\n",
       "\\end{tabular}\n",
       "\n",
       "\\item \\begin{tabular}{l}\n",
       "\t 11.04536\\\\\n",
       "\\end{tabular}\n",
       "\n",
       "\\item \\begin{tabular}{l}\n",
       "\t 0.816969\\\\\n",
       "\\end{tabular}\n",
       "\n",
       "\\item \\begin{tabular}{l}\n",
       "\t 5.656854\\\\\n",
       "\\end{tabular}\n",
       "\n",
       "\\end{enumerate}\n"
      ],
      "text/markdown": [
       "1. \n",
       "| 2.236068 | \n",
       "\n",
       "\n",
       "\n",
       "2. \n",
       "| 3.041381 | \n",
       "\n",
       "\n",
       "\n",
       "3. \n",
       "| 4.154354 | \n",
       "\n",
       "\n",
       "\n",
       "4. \n",
       "| 11.04536 | \n",
       "\n",
       "\n",
       "\n",
       "5. \n",
       "| 0.816969 | \n",
       "\n",
       "\n",
       "\n",
       "6. \n",
       "| 5.656854 | \n",
       "\n",
       "\n",
       "\n",
       "\n",
       "\n"
      ],
      "text/plain": [
       "[[1]]\n",
       "         [,1]\n",
       "[1,] 2.236068\n",
       "\n",
       "[[2]]\n",
       "         [,1]\n",
       "[1,] 3.041381\n",
       "\n",
       "[[3]]\n",
       "         [,1]\n",
       "[1,] 4.154354\n",
       "\n",
       "[[4]]\n",
       "         [,1]\n",
       "[1,] 11.04536\n",
       "\n",
       "[[5]]\n",
       "         [,1]\n",
       "[1,] 0.816969\n",
       "\n",
       "[[6]]\n",
       "         [,1]\n",
       "[1,] 5.656854\n"
      ]
     },
     "metadata": {},
     "output_type": "display_data"
    },
    {
     "name": "stdout",
     "output_type": "stream",
     "text": [
      "[1] \"using norm\"\n"
     ]
    },
    {
     "data": {
      "text/html": [
       "<ol>\n",
       "\t<li>2.23606797749979</li>\n",
       "\t<li>3.04138126514911</li>\n",
       "\t<li>4.15435440231331</li>\n",
       "\t<li>11.0453610171873</li>\n",
       "\t<li>0.816968953880708</li>\n",
       "\t<li>5.65685424949238</li>\n",
       "</ol>\n"
      ],
      "text/latex": [
       "\\begin{enumerate}\n",
       "\\item 2.23606797749979\n",
       "\\item 3.04138126514911\n",
       "\\item 4.15435440231331\n",
       "\\item 11.0453610171873\n",
       "\\item 0.816968953880708\n",
       "\\item 5.65685424949238\n",
       "\\end{enumerate}\n"
      ],
      "text/markdown": [
       "1. 2.23606797749979\n",
       "2. 3.04138126514911\n",
       "3. 4.15435440231331\n",
       "4. 11.0453610171873\n",
       "5. 0.816968953880708\n",
       "6. 5.65685424949238\n",
       "\n",
       "\n"
      ],
      "text/plain": [
       "[[1]]\n",
       "[1] 2.236068\n",
       "\n",
       "[[2]]\n",
       "[1] 3.041381\n",
       "\n",
       "[[3]]\n",
       "[1] 4.154354\n",
       "\n",
       "[[4]]\n",
       "[1] 11.04536\n",
       "\n",
       "[[5]]\n",
       "[1] 0.816969\n",
       "\n",
       "[[6]]\n",
       "[1] 5.656854\n"
      ]
     },
     "metadata": {},
     "output_type": "display_data"
    }
   ],
   "source": [
    "vectors = list(a,b,c,d,e,f); \n",
    "\n",
    "norm2List = lapply(vectors, norm2); \n",
    "print(\"using my function norm2\"); norm2List\n",
    "\n",
    "#norm only works on numeric matrices so I have to use data.frame(matrixOrVector)\n",
    "normList = lapply(vectors, data.frame); normList = lapply(normList, norm, type=\"2\"); \n",
    "print(\"using norm\"); normList"
   ]
  },
  {
   "cell_type": "markdown",
   "metadata": {},
   "source": [
    "### 10. Solving Systems\n",
    "\n",
    "Use linear algebra to find the solution to these systems of equations. Plot the answers that you find along with the systems.\n",
    "\n",
    "1. $y=-4x-5$  \n",
    "   $y=2x+16$\n",
    "1. $y=2x+16$  \n",
    "   $4x-5y=10$\n",
    "1. $y=-4x-5$  \n",
    "   $4x-5y=10$"
   ]
  },
  {
   "cell_type": "code",
   "execution_count": 130,
   "metadata": {},
   "outputs": [
    {
     "name": "stdout",
     "output_type": "stream",
     "text": [
      "[1] \"x1 = \"\n"
     ]
    },
    {
     "data": {
      "text/html": [
       "-3.5"
      ],
      "text/latex": [
       "-3.5"
      ],
      "text/markdown": [
       "-3.5"
      ],
      "text/plain": [
       "[1] -3.5"
      ]
     },
     "metadata": {},
     "output_type": "display_data"
    },
    {
     "name": "stdout",
     "output_type": "stream",
     "text": [
      "[1] \"y1 = \"\n"
     ]
    },
    {
     "data": {
      "text/html": [
       "9"
      ],
      "text/latex": [
       "9"
      ],
      "text/markdown": [
       "9"
      ],
      "text/plain": [
       "[1] 9"
      ]
     },
     "metadata": {},
     "output_type": "display_data"
    },
    {
     "data": {
      "text/html": [
       "-1.25"
      ],
      "text/latex": [
       "-1.25"
      ],
      "text/markdown": [
       "-1.25"
      ],
      "text/plain": [
       "[1] -1.25"
      ]
     },
     "metadata": {},
     "output_type": "display_data"
    },
    {
     "data": {
      "text/html": [
       "-8"
      ],
      "text/latex": [
       "-8"
      ],
      "text/markdown": [
       "-8"
      ],
      "text/plain": [
       "[1] -8"
      ]
     },
     "metadata": {},
     "output_type": "display_data"
    },
    {
     "data": {
      "image/png": "[encoded data removed]",
      "text/plain": [
       "plot without title"
      ]
     },
     "metadata": {},
     "output_type": "display_data"
    }
   ],
   "source": [
    "A <- matrix(c(4, -2, 1, 1), nrow=2); b <- c(-5, 16); \n",
    "xy = solve(A, b); \n",
    "print(\"x1 = \"); xy[1]\n",
    "print(\"y1 = \"); xy[2]\n",
    "\n",
    "#finding where lines crosses x-axis\n",
    "#0=-4x-5\n",
    "x1Root = solve(4, -5); x1Root\n",
    "#0=2x+16\n",
    "x2Root = solve(-2, 16); x2Root\n",
    "\n",
    "xx <- -12:0; \n",
    "yy1 <- -4*xx - 5; #yy1 y in range(-10, 45)\n",
    "yy2 <- 2*xx + 16; #yy2\n",
    "\n",
    "library(repr)\n",
    "options(repr.plot.width=12, repr.plot.height=12)\n",
    "plot(xx, yy1, ylim=c(-10, 45), xlim=c(-13, 1), col=\"blue\")\n",
    "points(xx, yy2, col=\"red\")\n",
    "abline(h=0); abline(v=0)\n",
    "points(xy[1], xy[2], col=\"green\")\n"
   ]
  },
  {
   "cell_type": "markdown",
   "metadata": {},
   "source": [
    "### 11. Fit a function to Random Data"
   ]
  },
  {
   "cell_type": "markdown",
   "metadata": {},
   "source": [
    "#### Generate two random points."
   ]
  },
  {
   "cell_type": "code",
   "execution_count": 132,
   "metadata": {},
   "outputs": [
    {
     "data": {
      "text/html": [
       "<ol class=list-inline>\n",
       "\t<li>0.395397518994287</li>\n",
       "\t<li>0.00142420106567442</li>\n",
       "</ol>\n"
      ],
      "text/latex": [
       "\\begin{enumerate*}\n",
       "\\item 0.395397518994287\n",
       "\\item 0.00142420106567442\n",
       "\\end{enumerate*}\n"
      ],
      "text/markdown": [
       "1. 0.395397518994287\n",
       "2. 0.00142420106567442\n",
       "\n",
       "\n"
      ],
      "text/plain": [
       "[1] 0.395397519 0.001424201"
      ]
     },
     "metadata": {},
     "output_type": "display_data"
    },
    {
     "data": {
      "text/html": [
       "<ol class=list-inline>\n",
       "\t<li>0.190694519551471</li>\n",
       "\t<li>0.615289321634918</li>\n",
       "</ol>\n"
      ],
      "text/latex": [
       "\\begin{enumerate*}\n",
       "\\item 0.190694519551471\n",
       "\\item 0.615289321634918\n",
       "\\end{enumerate*}\n"
      ],
      "text/markdown": [
       "1. 0.190694519551471\n",
       "2. 0.615289321634918\n",
       "\n",
       "\n"
      ],
      "text/plain": [
       "[1] 0.1906945 0.6152893"
      ]
     },
     "metadata": {},
     "output_type": "display_data"
    }
   ],
   "source": [
    "p1 <- runif(2); p2 <- runif(2)\n",
    "p1; p2"
   ]
  },
  {
   "cell_type": "markdown",
   "metadata": {},
   "source": [
    "#### Plot these two points"
   ]
  },
  {
   "cell_type": "code",
   "execution_count": 138,
   "metadata": {},
   "outputs": [
    {
     "data": {
      "image/png": "[encoded data removed]",
      "text/plain": [
       "plot without title"
      ]
     },
     "metadata": {},
     "output_type": "display_data"
    }
   ],
   "source": [
    "library(repr)\n",
    "options(repr.plot.width=6, repr.plot.height=6)\n",
    "plot(p1[1], p2[2], ylim=c(-0.1, 1.1), xlim=c(-0.1, 1.1), col=\"blue\", xlab=\"X\", ylab=\"Y\")\n",
    "points(p2[1], p2[2], col=\"red\")"
   ]
  },
  {
   "cell_type": "markdown",
   "metadata": {},
   "source": [
    "Use linear algebra to fit a line to these two points.\n",
    "\n",
    "We know that the equation looks like this\n",
    "\n",
    "$$y_i=\\beta_0+\\beta_1x_i$$\n",
    "\n",
    "Which we can rewrite as\n",
    "\n",
    "$$(1,x_i)^T(\\beta_0, \\beta_1)=y_i$$\n",
    "\n",
    "or\n",
    "\n",
    "$$\\left(\\begin{matrix}1&x_i\\end{matrix}\\right)\\left(\\begin{matrix}\\beta_0\\\\ \\beta_1\\end{matrix}\\right)=y_i$$\n",
    "\n",
    "We can use this to make\n",
    "\n",
    "$$X\\beta=\\mathbf{y}$$"
   ]
  },
  {
   "cell_type": "code",
   "execution_count": 139,
   "metadata": {},
   "outputs": [
    {
     "data": {
      "text/html": [
       "<table>\n",
       "<tbody>\n",
       "\t<tr><td>1        </td><td>0.3953975</td></tr>\n",
       "\t<tr><td>1        </td><td>0.1906945</td></tr>\n",
       "</tbody>\n",
       "</table>\n"
      ],
      "text/latex": [
       "\\begin{tabular}{ll}\n",
       "\t 1         & 0.3953975\\\\\n",
       "\t 1         & 0.1906945\\\\\n",
       "\\end{tabular}\n"
      ],
      "text/markdown": [
       "\n",
       "| 1         | 0.3953975 | \n",
       "| 1         | 0.1906945 | \n",
       "\n",
       "\n"
      ],
      "text/plain": [
       "     [,1] [,2]     \n",
       "[1,] 1    0.3953975\n",
       "[2,] 1    0.1906945"
      ]
     },
     "metadata": {},
     "output_type": "display_data"
    },
    {
     "data": {
      "text/html": [
       "<ol class=list-inline>\n",
       "\t<li>1.18714569186392</li>\n",
       "\t<li>-2.998808626352</li>\n",
       "</ol>\n"
      ],
      "text/latex": [
       "\\begin{enumerate*}\n",
       "\\item 1.18714569186392\n",
       "\\item -2.998808626352\n",
       "\\end{enumerate*}\n"
      ],
      "text/markdown": [
       "1. 1.18714569186392\n",
       "2. -2.998808626352\n",
       "\n",
       "\n"
      ],
      "text/plain": [
       "[1]  1.187146 -2.998809"
      ]
     },
     "metadata": {},
     "output_type": "display_data"
    }
   ],
   "source": [
    "X <- rbind(c(1, p1[1]), c(1, p2[1])); y <- c(p1[2], p2[2])\n",
    "#X\n"
   ]
  },
  {
   "cell_type": "markdown",
   "metadata": {},
   "source": [
    "### Find $\\beta$"
   ]
  },
  {
   "cell_type": "code",
   "execution_count": 140,
   "metadata": {},
   "outputs": [
    {
     "data": {
      "text/html": [
       "<ol class=list-inline>\n",
       "\t<li>1.18714569186392</li>\n",
       "\t<li>-2.998808626352</li>\n",
       "</ol>\n"
      ],
      "text/latex": [
       "\\begin{enumerate*}\n",
       "\\item 1.18714569186392\n",
       "\\item -2.998808626352\n",
       "\\end{enumerate*}\n"
      ],
      "text/markdown": [
       "1. 1.18714569186392\n",
       "2. -2.998808626352\n",
       "\n",
       "\n"
      ],
      "text/plain": [
       "[1]  1.187146 -2.998809"
      ]
     },
     "metadata": {},
     "output_type": "display_data"
    }
   ],
   "source": [
    "beta <- solve(X,y); beta"
   ]
  },
  {
   "cell_type": "markdown",
   "metadata": {},
   "source": [
    "Plot the two points and the line described by $\\beta$."
   ]
  },
  {
   "cell_type": "markdown",
   "metadata": {},
   "source": [
    "### 12. Find the line of best fit"
   ]
  },
  {
   "cell_type": "code",
   "execution_count": 141,
   "metadata": {},
   "outputs": [],
   "source": [
    "beta_0 <- 2\n",
    "beta_1 <- -3\n",
    "xx <- seq(-5,5,by=.1)\n",
    "n <- length(xx)\n",
    "noise <- 5*runif(n)\n",
    "yy = beta_0 + beta_1*xx + noise"
   ]
  },
  {
   "cell_type": "code",
   "execution_count": 142,
   "metadata": {},
   "outputs": [
    {
     "data": {
      "image/png": "[encoded data removed]",
      "text/plain": [
       "plot without title"
      ]
     },
     "metadata": {},
     "output_type": "display_data"
    }
   ],
   "source": [
    "plot(xx,yy)"
   ]
  },
  {
   "cell_type": "markdown",
   "metadata": {},
   "source": [
    "#### Problem set up\n",
    "\n",
    "Create your matrices and vectors so that\n",
    "\n",
    "$$X\\beta=\\mathbf{y}$$\n",
    "\n",
    "Solve $$X^TX\\beta=X^T\\mathbf{y}$$"
   ]
  },
  {
   "cell_type": "code",
   "execution_count": 164,
   "metadata": {},
   "outputs": [
    {
     "name": "stdout",
     "output_type": "stream",
     "text": [
      "[1] \"XTX =\"\n"
     ]
    },
    {
     "data": {
      "text/html": [
       "<table>\n",
       "<thead><tr><th></th><th scope=col></th><th scope=col>xx</th></tr></thead>\n",
       "<tbody>\n",
       "\t<tr><th scope=row></th><td>1.010000e+02</td><td>1.065814e-14</td></tr>\n",
       "\t<tr><th scope=row>xx</th><td>1.065814e-14</td><td>8.585000e+02</td></tr>\n",
       "</tbody>\n",
       "</table>\n"
      ],
      "text/latex": [
       "\\begin{tabular}{r|ll}\n",
       "  &  & xx\\\\\n",
       "\\hline\n",
       "\t & 1.010000e+02 & 1.065814e-14\\\\\n",
       "\txx & 1.065814e-14 & 8.585000e+02\\\\\n",
       "\\end{tabular}\n"
      ],
      "text/markdown": [
       "\n",
       "| <!--/--> |  | xx | \n",
       "|---|---|\n",
       "|  | 1.010000e+02 | 1.065814e-14 | \n",
       "| xx | 1.065814e-14 | 8.585000e+02 | \n",
       "\n",
       "\n"
      ],
      "text/plain": [
       "                xx          \n",
       "   1.010000e+02 1.065814e-14\n",
       "xx 1.065814e-14 8.585000e+02"
      ]
     },
     "metadata": {},
     "output_type": "display_data"
    },
    {
     "name": "stdout",
     "output_type": "stream",
     "text": [
      "[1] \"XTy =\"\n"
     ]
    },
    {
     "data": {
      "text/html": [
       "<table>\n",
       "<tbody>\n",
       "\t<tr><th scope=row></th><td>  450.3484</td></tr>\n",
       "\t<tr><th scope=row>xx</th><td>-2591.4042</td></tr>\n",
       "</tbody>\n",
       "</table>\n"
      ],
      "text/latex": [
       "\\begin{tabular}{r|l}\n",
       "\t &   450.3484\\\\\n",
       "\txx & -2591.4042\\\\\n",
       "\\end{tabular}\n"
      ],
      "text/markdown": [
       "\n",
       "|  |   450.3484 | \n",
       "| xx | -2591.4042 | \n",
       "\n",
       "\n"
      ],
      "text/plain": [
       "   [,1]      \n",
       "     450.3484\n",
       "xx -2591.4042"
      ]
     },
     "metadata": {},
     "output_type": "display_data"
    },
    {
     "name": "stdout",
     "output_type": "stream",
     "text": [
      "[1] \"beta = \"\n"
     ]
    },
    {
     "data": {
      "text/html": [
       "<table>\n",
       "<tbody>\n",
       "\t<tr><th scope=row></th><td> 4.458895</td></tr>\n",
       "\t<tr><th scope=row>xx</th><td>-3.018526</td></tr>\n",
       "</tbody>\n",
       "</table>\n"
      ],
      "text/latex": [
       "\\begin{tabular}{r|l}\n",
       "\t &  4.458895\\\\\n",
       "\txx & -3.018526\\\\\n",
       "\\end{tabular}\n"
      ],
      "text/markdown": [
       "\n",
       "|  |  4.458895 | \n",
       "| xx | -3.018526 | \n",
       "\n",
       "\n"
      ],
      "text/plain": [
       "   [,1]     \n",
       "    4.458895\n",
       "xx -3.018526"
      ]
     },
     "metadata": {},
     "output_type": "display_data"
    }
   ],
   "source": [
    "X <- array(1, c(1,length(xx))); X <- t(X)\n",
    "X <- cbind(X, xx);\n",
    "y <- yy; \n",
    "\n",
    "XTX <- t(X)%*%X; print(\"XTX =\"); XTX\n",
    "XTy <- t(X)%*%y; print(\"XTy =\"); XTy\n",
    "\n",
    "beta <- solve(XTX, XTy); print(\"beta = \"); beta"
   ]
  },
  {
   "cell_type": "markdown",
   "metadata": {},
   "source": [
    "#### Plot the line of best fit"
   ]
  },
  {
   "cell_type": "code",
   "execution_count": 165,
   "metadata": {},
   "outputs": [
    {
     "data": {
      "image/png": "[encoded data removed]",
      "text/plain": [
       "plot without title"
      ]
     },
     "metadata": {},
     "output_type": "display_data"
    }
   ],
   "source": [
    "plot(xx,yy)\n",
    "lines(xx, beta[1] + beta[2]*xx, col='green')"
   ]
  },
  {
   "cell_type": "code",
   "execution_count": null,
   "metadata": {},
   "outputs": [],
   "source": []
  }
 ],
 "metadata": {
  "kernelspec": {
   "display_name": "R",
   "language": "R",
   "name": "ir"
  },
  "language_info": {
   "codemirror_mode": "r",
   "file_extension": ".r",
   "mimetype": "text/x-r-source",
   "name": "R",
   "pygments_lexer": "r",
   "version": "3.3.2"
  }
 },
 "nbformat": 4,
 "nbformat_minor": 2
}
