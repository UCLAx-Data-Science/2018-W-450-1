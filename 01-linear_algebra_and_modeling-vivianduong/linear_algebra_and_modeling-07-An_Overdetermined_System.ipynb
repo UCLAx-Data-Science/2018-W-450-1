{
 "cells": [
  {
   "cell_type": "markdown",
   "metadata": {},
   "source": [
    "# An Over-determined System\n",
    "\n",
    "### What if I have more points than variables?\n",
    "\n",
    "e.g. $(-3.1,4.2)$, $(-2.1,2.4)$, $(1.8,-2.5)$, $(0.5,-1.3)$, $(-1.1,1.9)$\n",
    "\n",
    "Consider that this is often the case in data science. We generally refer to the number of instances or points as $n$ and the number of features as $p$. Here we have $n > p$. A system with more $n$ than $p$ is known as an **over-determined system**."
   ]
  },
  {
   "cell_type": "code",
   "execution_count": 1,
   "metadata": {},
   "outputs": [
    {
     "data": {
      "image/png": "[encoded data removed]",
      "text/plain": [
       "plot without title"
      ]
     },
     "metadata": {},
     "output_type": "display_data"
    }
   ],
   "source": [
    "options(repr.plot.width=12, repr.plot.height=6)\n",
    "plot(NA, xlim=c(-4,4), ylim=c(-3,5), xlab=\"X\", ylab=\"Y\")\n",
    "abline(h=0); abline(v=0)\n",
    "points(-3.1,4.2)\n",
    "points(-2.1,2.4)\n",
    "points(1.8,-2.5)\n",
    "points(0.5,-1.3)\n",
    "points(-1.1,1.9)"
   ]
  },
  {
   "cell_type": "markdown",
   "metadata": {},
   "source": [
    "### There is no line that will work!!!\n",
    "\n",
    "### What we want is the \"best\" line\n",
    "\n",
    "Our problem could be defined as such\n",
    "\n",
    "Given $(-3.1,4.2)$, $(-2.1,2.4)$, $(1.8,-2.5)$, $(0.5,-1.3)$, $(-1.1,1.9)$, we seek $\\beta_0$ and $\\beta_1$ so that\n",
    "\n",
    "$$\n",
    "\\left(\\begin{matrix}1&-3.1\\\\1&-2.1\\\\1&1.8\\\\1&0.5\\\\1&-1.1\\end{matrix}\\right)\n",
    "\\left(\\begin{matrix}\\beta_0\\\\\\beta_1\\end{matrix}\\right)=\\left(\\begin{matrix}4.2\\\\2.4\\\\-2.5\\\\-1.3\\\\1.9\\end{matrix}\\right)$$\n",
    "\n",
    "$$X\\beta=\\mathbf{y}$$ \n",
    "\n",
    "This implies that\n",
    "\n",
    "$$\\beta=X^{-1}\\mathbf{y}$$"
   ]
  },
  {
   "cell_type": "markdown",
   "metadata": {},
   "source": [
    "### Let's Solve it with R"
   ]
  },
  {
   "cell_type": "markdown",
   "metadata": {},
   "source": [
    "We will solve it exactly as previously. "
   ]
  },
  {
   "cell_type": "code",
   "execution_count": 4,
   "metadata": {},
   "outputs": [
    {
     "name": "stdout",
     "output_type": "stream",
     "text": [
      "[1] \"X = \"\n"
     ]
    },
    {
     "data": {
      "text/html": [
       "<table>\n",
       "<tbody>\n",
       "\t<tr><td>1   </td><td>-3.1</td></tr>\n",
       "\t<tr><td>1   </td><td>-2.1</td></tr>\n",
       "\t<tr><td>1   </td><td> 1.8</td></tr>\n",
       "\t<tr><td>1   </td><td> 0.5</td></tr>\n",
       "\t<tr><td>1   </td><td>-1.1</td></tr>\n",
       "</tbody>\n",
       "</table>\n"
      ],
      "text/latex": [
       "\\begin{tabular}{ll}\n",
       "\t 1    & -3.1\\\\\n",
       "\t 1    & -2.1\\\\\n",
       "\t 1    &  1.8\\\\\n",
       "\t 1    &  0.5\\\\\n",
       "\t 1    & -1.1\\\\\n",
       "\\end{tabular}\n"
      ],
      "text/markdown": [
       "\n",
       "| 1    | -3.1 | \n",
       "| 1    | -2.1 | \n",
       "| 1    |  1.8 | \n",
       "| 1    |  0.5 | \n",
       "| 1    | -1.1 | \n",
       "\n",
       "\n"
      ],
      "text/plain": [
       "     [,1] [,2]\n",
       "[1,] 1    -3.1\n",
       "[2,] 1    -2.1\n",
       "[3,] 1     1.8\n",
       "[4,] 1     0.5\n",
       "[5,] 1    -1.1"
      ]
     },
     "metadata": {},
     "output_type": "display_data"
    },
    {
     "name": "stdout",
     "output_type": "stream",
     "text": [
      "[1] \"Y = \"\n"
     ]
    },
    {
     "data": {
      "text/html": [
       "<ol class=list-inline>\n",
       "\t<li>4.2</li>\n",
       "\t<li>2.4</li>\n",
       "\t<li>-2.5</li>\n",
       "\t<li>-1.3</li>\n",
       "\t<li>1.9</li>\n",
       "</ol>\n"
      ],
      "text/latex": [
       "\\begin{enumerate*}\n",
       "\\item 4.2\n",
       "\\item 2.4\n",
       "\\item -2.5\n",
       "\\item -1.3\n",
       "\\item 1.9\n",
       "\\end{enumerate*}\n"
      ],
      "text/markdown": [
       "1. 4.2\n",
       "2. 2.4\n",
       "3. -2.5\n",
       "4. -1.3\n",
       "5. 1.9\n",
       "\n",
       "\n"
      ],
      "text/plain": [
       "[1]  4.2  2.4 -2.5 -1.3  1.9"
      ]
     },
     "metadata": {},
     "output_type": "display_data"
    },
    {
     "ename": "ERROR",
     "evalue": "Error in solve.default(X, y): 'a' (5 x 2) must be square\n",
     "output_type": "error",
     "traceback": [
      "Error in solve.default(X, y): 'a' (5 x 2) must be square\nTraceback:\n",
      "1. solve(X, y)",
      "2. solve.default(X, y)"
     ]
    }
   ],
   "source": [
    "X <- rbind(c(1,-3.1),c(1,-2.1),c(1,1.8),c(1,0.5),c(1,-1.1))\n",
    "print(\"X = \"); X\n",
    "y <- c(4.2,2.4,-2.5,-1.3,1.9)\n",
    "print(\"Y = \"); y\n",
    "beta <- solve(X, y)"
   ]
  },
  {
   "cell_type": "markdown",
   "metadata": {},
   "source": [
    "# $X$ has no inverse!!!\n",
    "\n",
    "While the precise mathematical meaning of this may elude you, intuitively, you should be able to understand why. We framed the problem as such \n",
    "\n",
    "Given $(-3.1,4.2)$, $(-2.1,2.4)$, $(1.8,-2.5)$, $(0.5,-1.3)$, $(-1.1,1.9)$, we seek $\\beta_0$ and $\\beta_1$ so that\n",
    "\n",
    "$$\n",
    "\\left(\\begin{matrix}1&-3.1\\\\1&-2.1\\\\1&1.8\\\\1&0.5\\\\1&-1.1\\end{matrix}\\right)\n",
    "\\left(\\begin{matrix}\\beta_0\\\\\\beta_1\\end{matrix}\\right)=\\left(\\begin{matrix}4.2\\\\2.4\\\\-2.5\\\\-1.3\\\\1.9\\end{matrix}\\right)$$\n",
    "\n",
    "$$X\\beta=\\mathbf{y}$$\n",
    "\n",
    "But there can be no solution to this system of equations. There is no vector $\\beta = (\\beta_0, \\beta_1)$ that will work for all five equations. \n",
    "\n",
    "If we are going to solve this, we will need to reframe the problem."
   ]
  },
  {
   "cell_type": "markdown",
   "metadata": {},
   "source": [
    "### Can't we find a non-linear solution\n",
    "\n",
    "##### Non-linear functions are linear in Coefficient!!\n",
    "\n",
    "Why is this important? Because we want to develop our linearly intuition **even if we will use non-linearity later**.\n",
    "\n",
    "$$y = \\beta_0 + \\beta_1x + \\beta_2x^2 +  \\beta_3x^3$$\n",
    "\n",
    "$$\\left(\\begin{matrix}1&x&x^2&x^3\\end{matrix}\\right)\\left(\\begin{matrix}\\beta_0\\\\\\beta_1\\\\\\beta_2\\\\\\beta_3\\end{matrix}\\right)=y$$"
   ]
  },
  {
   "cell_type": "markdown",
   "metadata": {},
   "source": [
    "### When is there no Inverse?\n",
    "\n",
    "When the matrix is singular. This is deep, deep concept. But basically, it signifies that via elimination a row and/or a column of the matrix can be reduced to a column of zeros. \n",
    "\n",
    "This is obviously true for a rectangular matrix ($n>p$ and $p>n$). \n",
    "\n",
    "\n",
    "$$\\left(\\begin{matrix}1&-3.1\\\\1&-2.1\\\\1&1.8\\\\1&0.5\\\\1&-1.1\\end{matrix}\\right)=\\left(\\begin{matrix}1&-3.1&0&0&0\\\\1&-2.1&0&0&0\\\\1&1.8&0&0&0\\\\1&0.5&0&0&0\\\\1&-1.1&0&0&0\\end{matrix}\\right)$$\n",
    "\n",
    "When we use this matrix as a transformer **it will lose information that is unrecoverable**. Thus, when we try to invert, we will have incomplete information and will not be able to.\n",
    "\n",
    "Intuitively, think of holding a color image in a matrix. What if we apply a matrix transformation to this to transform the image to be black and white. There is no inverse operation to transform the image back into color. **We lost information!!**."
   ]
  },
  {
   "cell_type": "markdown",
   "metadata": {},
   "source": [
    "<img src=\"https://pics.me.me/life-finds-a-way-22332197.png\" width=300px>"
   ]
  },
  {
   "cell_type": "code",
   "execution_count": 8,
   "metadata": {},
   "outputs": [
    {
     "name": "stdout",
     "output_type": "stream",
     "text": [
      "[1] \"XTX =\"\n"
     ]
    },
    {
     "data": {
      "text/html": [
       "<table>\n",
       "<tbody>\n",
       "\t<tr><td> 5   </td><td>-4.00</td></tr>\n",
       "\t<tr><td>-4   </td><td>18.72</td></tr>\n",
       "</tbody>\n",
       "</table>\n"
      ],
      "text/latex": [
       "\\begin{tabular}{ll}\n",
       "\t  5    & -4.00\\\\\n",
       "\t -4    & 18.72\\\\\n",
       "\\end{tabular}\n"
      ],
      "text/markdown": [
       "\n",
       "|  5    | -4.00 | \n",
       "| -4    | 18.72 | \n",
       "\n",
       "\n"
      ],
      "text/plain": [
       "     [,1] [,2] \n",
       "[1,]  5   -4.00\n",
       "[2,] -4   18.72"
      ]
     },
     "metadata": {},
     "output_type": "display_data"
    },
    {
     "name": "stdout",
     "output_type": "stream",
     "text": [
      "[1] \"XTy =\"\n"
     ]
    },
    {
     "data": {
      "text/html": [
       "<table>\n",
       "<tbody>\n",
       "\t<tr><td>  4.7</td></tr>\n",
       "\t<tr><td>-25.3</td></tr>\n",
       "</tbody>\n",
       "</table>\n"
      ],
      "text/latex": [
       "\\begin{tabular}{l}\n",
       "\t   4.7\\\\\n",
       "\t -25.3\\\\\n",
       "\\end{tabular}\n"
      ],
      "text/markdown": [
       "\n",
       "|   4.7 | \n",
       "| -25.3 | \n",
       "\n",
       "\n"
      ],
      "text/plain": [
       "     [,1] \n",
       "[1,]   4.7\n",
       "[2,] -25.3"
      ]
     },
     "metadata": {},
     "output_type": "display_data"
    },
    {
     "name": "stdout",
     "output_type": "stream",
     "text": [
      "[1] \"beta = \"\n"
     ]
    },
    {
     "data": {
      "text/html": [
       "<table>\n",
       "<tbody>\n",
       "\t<tr><td>-0.1703093</td></tr>\n",
       "\t<tr><td>-1.3878866</td></tr>\n",
       "</tbody>\n",
       "</table>\n"
      ],
      "text/latex": [
       "\\begin{tabular}{l}\n",
       "\t -0.1703093\\\\\n",
       "\t -1.3878866\\\\\n",
       "\\end{tabular}\n"
      ],
      "text/markdown": [
       "\n",
       "| -0.1703093 | \n",
       "| -1.3878866 | \n",
       "\n",
       "\n"
      ],
      "text/plain": [
       "     [,1]      \n",
       "[1,] -0.1703093\n",
       "[2,] -1.3878866"
      ]
     },
     "metadata": {},
     "output_type": "display_data"
    }
   ],
   "source": [
    "XTX <- t(X)%*%X; print(\"XTX =\"); XTX\n",
    "XTy <- t(X)%*%y; print(\"XTy =\"); XTy\n",
    "\n",
    "beta <- solve(XTX, XTy); print(\"beta = \"); beta"
   ]
  },
  {
   "cell_type": "code",
   "execution_count": 6,
   "metadata": {},
   "outputs": [
    {
     "data": {
      "image/png": "[encoded data removed]",
      "text/plain": [
       "plot without title"
      ]
     },
     "metadata": {},
     "output_type": "display_data"
    }
   ],
   "source": [
    "options(repr.plot.width=12, repr.plot.height=6)\n",
    "plot(NA, xlim=c(-4,4), ylim=c(-3,5), xlab=\"X\", ylab=\"Y\")\n",
    "abline(h=0); abline(v=0)\n",
    "points(-3.1,4.2)\n",
    "points(-2.1,2.4)\n",
    "points(1.8,-2.5)\n",
    "points(0.5,-1.3)\n",
    "points(-1.1,1.9)\n",
    "xx <- seq(-3,3,by = 0.1)\n",
    "lines(xx, beta[1] + beta[2]*xx, col='green')"
   ]
  }
 ],
 "metadata": {
  "kernelspec": {
   "display_name": "R",
   "language": "R",
   "name": "ir"
  },
  "language_info": {
   "codemirror_mode": "r",
   "file_extension": ".r",
   "mimetype": "text/x-r-source",
   "name": "R",
   "pygments_lexer": "r",
   "version": "3.3.2"
  }
 },
 "nbformat": 4,
 "nbformat_minor": 2
}
