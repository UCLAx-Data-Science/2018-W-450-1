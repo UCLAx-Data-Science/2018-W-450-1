{
 "cells": [
  {
   "cell_type": "code",
   "execution_count": 1,
   "metadata": {},
   "outputs": [],
   "source": [
    "a <- c(-1,2)\n",
    "b <- c(3,5)\n",
    "c <- a + b\n",
    "d <- c(-1.5,1.3)\n",
    "e <- 3*d\n",
    "f <- c(-1,1)\n",
    "g <- c(2,-1)\n",
    "h <- 2*f + 3*g"
   ]
  },
  {
   "cell_type": "code",
   "execution_count": 3,
   "metadata": {},
   "outputs": [],
   "source": [
    "vecplot <- function (v, origin=NULL, col=\"black\", lwd=1) {\n",
    "    if (is.null(origin)) {\n",
    "        origin = c(0,0)\n",
    "    }\n",
    "    arrows(origin[1],origin[2],v[1]+origin[1],v[2]+origin[2], col=col, lwd=lwd)\n",
    "}"
   ]
  },
  {
   "cell_type": "markdown",
   "metadata": {},
   "source": [
    "### The length of a vector"
   ]
  },
  {
   "cell_type": "markdown",
   "metadata": {},
   "source": [
    "The length of a vector is the number of elements in that vector."
   ]
  },
  {
   "cell_type": "code",
   "execution_count": 4,
   "metadata": {},
   "outputs": [
    {
     "data": {
      "text/html": [
       "2"
      ],
      "text/latex": [
       "2"
      ],
      "text/markdown": [
       "2"
      ],
      "text/plain": [
       "[1] 2"
      ]
     },
     "metadata": {},
     "output_type": "display_data"
    }
   ],
   "source": [
    "length(a)"
   ]
  },
  {
   "cell_type": "code",
   "execution_count": 5,
   "metadata": {},
   "outputs": [
    {
     "data": {
      "text/html": [
       "TRUE"
      ],
      "text/latex": [
       "TRUE"
      ],
      "text/markdown": [
       "TRUE"
      ],
      "text/plain": [
       "[1] TRUE"
      ]
     },
     "metadata": {},
     "output_type": "display_data"
    }
   ],
   "source": [
    "length(a) == length(h)"
   ]
  },
  {
   "cell_type": "markdown",
   "metadata": {},
   "source": [
    "### The magnitude of a vector\n",
    "\n",
    "The magnitude of a 2-d vector is something you have certainly seen before."
   ]
  },
  {
   "cell_type": "code",
   "execution_count": 6,
   "metadata": {},
   "outputs": [],
   "source": [
    "x <- a; y <- a\n",
    "x[2] = 0; y[1] = 0"
   ]
  },
  {
   "cell_type": "code",
   "execution_count": 7,
   "metadata": {},
   "outputs": [
    {
     "data": {
      "image/png": "[encoded data removed]",
      "text/plain": [
       "plot without title"
      ]
     },
     "metadata": {},
     "output_type": "display_data"
    }
   ],
   "source": [
    "options(repr.plot.width=12, repr.plot.height=6)\n",
    "plot(NA, xlim=c(-2,1), ylim=c(-1,2), xlab=\"X\", ylab=\"Y\")\n",
    "abline(h=0); abline(v=0)\n",
    "vecplot(a)\n",
    "vecplot(x, col=\"blue\")\n",
    "vecplot(y, x, col=\"red\")"
   ]
  },
  {
   "cell_type": "markdown",
   "metadata": {},
   "source": [
    "The magnitude of $a$ is\n",
    "\n",
    "$$\\rvert\\rvert a \\rvert\\rvert = \\sqrt{a_x^2+a_y^2}$$\n",
    "\n",
    "which should be all to familiar to you as the Pythagorean Theorem.\n",
    "\n",
    "Incredibly, this generalizes to $p$-dimensional vectors.\n",
    "\n",
    "$$\\rvert\\rvert a_p \\rvert\\rvert = \\sqrt{a_1^2+a_2^2\\dots+a_p^2}$$"
   ]
  },
  {
   "cell_type": "markdown",
   "metadata": {},
   "source": [
    "#### The $\\ell_2$-Norm\n",
    "\n",
    "This computation has a fancy name, the $\\ell_2$-norm and can be computed using `norm` with the argument `type=\"2\"`."
   ]
  },
  {
   "cell_type": "code",
   "execution_count": 8,
   "metadata": {},
   "outputs": [
    {
     "data": {
      "text/html": [
       "2.23606797749979"
      ],
      "text/latex": [
       "2.23606797749979"
      ],
      "text/markdown": [
       "2.23606797749979"
      ],
      "text/plain": [
       "[1] 2.236068"
      ]
     },
     "metadata": {},
     "output_type": "display_data"
    }
   ],
   "source": [
    "sqrt(a[1]**2 + a[2]**2)"
   ]
  },
  {
   "cell_type": "code",
   "execution_count": 9,
   "metadata": {},
   "outputs": [
    {
     "data": {
      "text/html": [
       "2.23606797749979"
      ],
      "text/latex": [
       "2.23606797749979"
      ],
      "text/markdown": [
       "2.23606797749979"
      ],
      "text/plain": [
       "[1] 2.236068"
      ]
     },
     "metadata": {},
     "output_type": "display_data"
    }
   ],
   "source": [
    "norm(a, type=\"2\")"
   ]
  },
  {
   "cell_type": "markdown",
   "metadata": {},
   "source": [
    "We will see our friend, the $\\ell_2$-norm again.\n",
    "\n",
    "For now, let's consider the first computation.\n",
    "\n",
    "$$\\rvert\\rvert a \\rvert\\rvert = \\sqrt{a_x^2+a_y^2}$$\n",
    "\n",
    "We can rewrite this as\n",
    "\n",
    "$$\\rvert\\rvert a \\rvert\\rvert = \\sqrt{a_xa_x+a_ya_y}$$\n",
    "\n",
    "Let's consider just the computation under the radical\n",
    "\n",
    "$$a_xa_x+a_ya_y$$\n",
    "\n",
    "This is actually a special compuation, the dot product."
   ]
  },
  {
   "cell_type": "markdown",
   "metadata": {},
   "source": [
    "# The Dot Product\n",
    "\n",
    "The dot product, also known as the inner product, is an operation defined over a vector space that yields a scalar.\n",
    "\n",
    "Given\n",
    "\n",
    "$$\\mathbf{u}=(1,0,-1)$$\n",
    "\n",
    "$$\\mathbf{v}=(-3,3,-2)$$\n",
    "\n",
    "The dot product of $\\mathbf{u}$ and $\\mathbf{v}$ is $\\langle \\mathbf{u}, \\mathbf{v}\\rangle$ where\n",
    "\n",
    "$$\\langle \\mathbf{u}, \\mathbf{v}\\rangle = 1\\cdot(-3)+0\\cdot3+(-1)\\cdot(-2)=-1$$\n",
    "\n",
    "$$\\langle \\mathbf{u}, \\mathbf{v}\\rangle = \\sum u_i\\cdot v_i$$"
   ]
  },
  {
   "cell_type": "code",
   "execution_count": 10,
   "metadata": {},
   "outputs": [
    {
     "data": {
      "text/html": [
       "<table>\n",
       "<tbody>\n",
       "\t<tr><td>-1</td></tr>\n",
       "</tbody>\n",
       "</table>\n"
      ],
      "text/latex": [
       "\\begin{tabular}{l}\n",
       "\t -1\\\\\n",
       "\\end{tabular}\n"
      ],
      "text/markdown": [
       "\n",
       "| -1 | \n",
       "\n",
       "\n"
      ],
      "text/plain": [
       "     [,1]\n",
       "[1,] -1  "
      ]
     },
     "metadata": {},
     "output_type": "display_data"
    }
   ],
   "source": [
    "u = c(1,0,-1); v = c(-3,3,-2)\n",
    "u%*%v"
   ]
  },
  {
   "cell_type": "markdown",
   "metadata": {},
   "source": [
    "NOTE: $$\\langle \\mathbf{u}, \\mathbf{v}\\rangle = \\langle \\mathbf{v}, \\mathbf{u}\\rangle$$ for all $\\mathbf{u}$, $\\mathbf{v}$."
   ]
  },
  {
   "cell_type": "markdown",
   "metadata": {},
   "source": [
    "### The Magnitude is the Square Root Dot Product of a Vector with Itself\n",
    "\n",
    "Knowing this, it is easy to see that\n",
    "\n",
    "$$a_xa_x+a_ya_y$$\n",
    "\n",
    "is the dot product of $\\mathbf{a}$ with itself.\n",
    "\n",
    "Then\n",
    "\n",
    "$$\\rvert\\rvert a \\rvert\\rvert = \\sqrt{\\langle \\mathbf{a}, \\mathbf{a}\\rangle}$$"
   ]
  },
  {
   "cell_type": "code",
   "execution_count": 11,
   "metadata": {},
   "outputs": [
    {
     "data": {
      "text/html": [
       "2.23606797749979"
      ],
      "text/latex": [
       "2.23606797749979"
      ],
      "text/markdown": [
       "2.23606797749979"
      ],
      "text/plain": [
       "[1] 2.236068"
      ]
     },
     "metadata": {},
     "output_type": "display_data"
    }
   ],
   "source": [
    "norm(a, type=\"2\")"
   ]
  },
  {
   "cell_type": "code",
   "execution_count": 12,
   "metadata": {},
   "outputs": [
    {
     "data": {
      "text/html": [
       "<table>\n",
       "<tbody>\n",
       "\t<tr><td>2.236068</td></tr>\n",
       "</tbody>\n",
       "</table>\n"
      ],
      "text/latex": [
       "\\begin{tabular}{l}\n",
       "\t 2.236068\\\\\n",
       "\\end{tabular}\n"
      ],
      "text/markdown": [
       "\n",
       "| 2.236068 | \n",
       "\n",
       "\n"
      ],
      "text/plain": [
       "     [,1]    \n",
       "[1,] 2.236068"
      ]
     },
     "metadata": {},
     "output_type": "display_data"
    }
   ],
   "source": [
    "sqrt(a%*%a)"
   ]
  },
  {
   "cell_type": "markdown",
   "metadata": {},
   "source": [
    "#### Geometric Interpretation of the Dot Product\n",
    "\n",
    "Geometrically, the dot product is the magnitude of the project of one vector onto another vector. Below $proj_BA$ is the projection of $A$ onto $B$ - it is the part of $A$ that is in the same direction as $B$.\n",
    "\n",
    "<img src=https://upload.wikimedia.org/wikipedia/commons/thumb/3/3e/Dot_Product.svg/1200px-Dot_Product.svg.png width=300px>"
   ]
  },
  {
   "cell_type": "markdown",
   "metadata": {},
   "source": [
    "The projection of a vector onto itself is the vector itself!!!\n",
    "\n",
    "Thus, the dot product is the magnitude of the vector!"
   ]
  },
  {
   "cell_type": "markdown",
   "metadata": {},
   "source": [
    "#### A Note on Writing Vectors\n",
    "\n",
    "These two forms of vector representation are equivalent\n",
    "\n",
    "$$(a,b,c,d)=\\left(\\begin{matrix}a\\\\ b \\\\ c\\\\ d\\end{matrix}\\right)$$\n",
    "\n",
    "This form is known as the column vector form.\n",
    "\n",
    "A vector written as boldface later e.g. $\\mathbf{u}$ is typically considered to be in column vector form.\n",
    "\n",
    "A vector written as\n",
    "\n",
    "$$\\left(\\begin{matrix}e& f& g& h\\end{matrix}\\right)$$\n",
    "\n",
    "is considered to be written in the row vector form.\n",
    "\n",
    "#### Changing Vectors Forms\n",
    "\n",
    "Vectors can be transformed from one form to the other via the transpose operation.\n",
    "\n",
    "$$\\mathbf{m}=(1,2,3,4)$$\n",
    "\n",
    "then\n",
    "\n",
    "$$\\mathbf{m}^T=\\left(\\begin{matrix}1&2&3&4\\end{matrix}\\right)$$\n",
    "\n",
    "#### `t()` as the transpose\n",
    "\n",
    "We can achieve the transpose in R with the `t()` function."
   ]
  },
  {
   "cell_type": "code",
   "execution_count": 13,
   "metadata": {},
   "outputs": [
    {
     "data": {
      "text/html": [
       "<table>\n",
       "<tbody>\n",
       "\t<tr><td>TRUE</td><td>TRUE</td></tr>\n",
       "</tbody>\n",
       "</table>\n"
      ],
      "text/latex": [
       "\\begin{tabular}{ll}\n",
       "\t TRUE & TRUE\\\\\n",
       "\\end{tabular}\n"
      ],
      "text/markdown": [
       "\n",
       "| TRUE | TRUE | \n",
       "\n",
       "\n"
      ],
      "text/plain": [
       "     [,1] [,2]\n",
       "[1,] TRUE TRUE"
      ]
     },
     "metadata": {},
     "output_type": "display_data"
    }
   ],
   "source": [
    "t(a) == a"
   ]
  },
  {
   "cell_type": "markdown",
   "metadata": {},
   "source": [
    "#### The importance of row and column vectors\n",
    "\n",
    "This is important because we think of the dot product as a row vector times a column vector\n",
    "\n",
    "$$\\langle \\mathbf{u}, \\mathbf{v}\\rangle = \\sum u_i\\cdot v_i = \\mathbf{u}^T\\mathbf{v}=\\left(\\begin{matrix}1&0&-1\\end{matrix}\\right)\\left(\\begin{matrix}-3 \\\\ 3 \\\\-2\\end{matrix}\\right)= 1\\cdot(-3)+0\\cdot+(-1)\\cdot(-2)=1$$"
   ]
  },
  {
   "cell_type": "code",
   "execution_count": null,
   "metadata": {},
   "outputs": [],
   "source": []
  }
 ],
 "metadata": {
  "kernelspec": {
   "display_name": "R",
   "language": "R",
   "name": "ir"
  },
  "language_info": {
   "codemirror_mode": "r",
   "file_extension": ".r",
   "mimetype": "text/x-r-source",
   "name": "R",
   "pygments_lexer": "r",
   "version": "3.3.2"
  }
 },
 "nbformat": 4,
 "nbformat_minor": 2
}
